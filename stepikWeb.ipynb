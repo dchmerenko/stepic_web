{
 "cells": [
  {
   "cell_type": "code",
   "execution_count": 11,
   "metadata": {},
   "outputs": [
    {
     "name": "stdout",
     "output_type": "stream",
     "text": [
      "Overwriting tcp_server.py\n"
     ]
    }
   ],
   "source": [
    "#%%writefile tcp_server.py\n",
    "# tcp server\n",
    "\n",
    "import socket\n",
    "\n",
    "\n",
    "with socket.socket(socket.AF_INET, socket.SOCK_STREAM) as srv:\n",
    "    srv.bind(('127.0.0.1', 1234))\n",
    "    srv.listen(10)\n",
    "    while True:\n",
    "        conn, addr = srv.accept()\n",
    "        print(\"Conneted by\", addr)\n",
    "        while True:\n",
    "            data = conn.recv(1024)\n",
    "            print(\"Recieved:\", data)\n",
    "            if not data:\n",
    "                break\n",
    "            print(\"Sending:\", data)\n",
    "            conn.send(data)\n",
    "        conn.close()"
   ]
  },
  {
   "cell_type": "code",
   "execution_count": 22,
   "metadata": {},
   "outputs": [
    {
     "name": "stdout",
     "output_type": "stream",
     "text": [
      "Sending: b'close'\n",
      "Received: \n"
     ]
    }
   ],
   "source": [
    "#%%writefile tcp_client.py\n",
    "# tcp client\n",
    "\n",
    "import socket\n",
    "\n",
    "req = 'close'.encode()\n",
    "\n",
    "with socket.socket(socket.AF_INET, socket.SOCK_STREAM) as clnt:\n",
    "    clnt.connect(('127.0.0.1', 2222))\n",
    "    print(\"Sending:\", req)\n",
    "    clnt.send(req)\n",
    "    rsp = clnt.recv(1024)\n",
    "    print(\"Received:\", rsp.decode())"
   ]
  },
  {
   "cell_type": "code",
   "execution_count": null,
   "metadata": {},
   "outputs": [],
   "source": [
    "# my_receive\n",
    "\n",
    "def my_receive(sock, msg_len):\n",
    "    msg = ''\n",
    "    while len(msg) < msg_len:\n",
    "        chunk = sock.recv(msg_len - len(msg))\n",
    "        if chunk == '':\n",
    "            raise RuntimeError(\"Transmission broken\")\n",
    "        msg += chunk\n",
    "    return msg"
   ]
  },
  {
   "cell_type": "code",
   "execution_count": null,
   "metadata": {},
   "outputs": [],
   "source": [
    "# my_send\n",
    "\n",
    "def my_send(sock, msg):\n",
    "    totalsent = 0\n",
    "    while totalsent < len(msg):\n",
    "        sent = sock.send(msg[totalsent:])  # returns how many bytes were sent\n",
    "        if sent == 0:\n",
    "            raise RuntimeError(\"Transmission broken\")\n",
    "        totalsent += sent"
   ]
  },
  {
   "cell_type": "code",
   "execution_count": 20,
   "metadata": {},
   "outputs": [
    {
     "name": "stdout",
     "output_type": "stream",
     "text": [
      "Writing echo_server.py\n"
     ]
    }
   ],
   "source": [
    "import socket\n",
    "\n",
    "\n",
    "srv = socket.socket(socket.AF_INET, socket.SOCK_STREAM)\n",
    "srv.bind(('0.0.0.0', 2222))\n",
    "srv.listen(5)\n",
    "while True:\n",
    "    conn, addr = srv.accept()\n",
    "    while True:\n",
    "        data = conn.recv(1024)\n",
    "        if not data or data == \"close\":\n",
    "            break\n",
    "        conn.send(data)\n",
    "    conn.close()"
   ]
  },
  {
   "cell_type": "code",
   "execution_count": null,
   "metadata": {},
   "outputs": [],
   "source": [
    "import socket\n",
    "\n",
    "with socket.socket(socket.AF_INET, socket.SOCK_STREAM) as s:\n",
    "    s.bind(('0.0.0.0', 2222))\n",
    "    s.listen(10)\n",
    "    conn, addr = s.accept()\n",
    "    while True:\n",
    "        data = conn.recv(1024)\n",
    "        if data.decode() == 'close': break\n",
    "        conn.send(data)\n"
   ]
  },
  {
   "cell_type": "code",
   "execution_count": null,
   "metadata": {},
   "outputs": [],
   "source": [
    "1. Создаете репозиторий на гитхабе.\n",
    "2. Клонируете его себе на на компьютер. (git clone https://github.com/name/rep.git)\n",
    "3. Создаете фаил с кодом внутри папки репозитория.\n",
    "4. Пушите фаил в репозиторий на гитхаб. (git add .) (git commit -m \"init\") (git push origin master)\n",
    "5. Клонируете репозиторий в консоли степика. (git clone https://github.com/name/rep.git)\n",
    "6. Запускаете программу.\n",
    "ну или можно инициализировать репозиторий прямо с компьютера например, или из консоли степика (git init)"
   ]
  }
 ],
 "metadata": {
  "kernelspec": {
   "display_name": "Python 3",
   "language": "python",
   "name": "python3"
  },
  "language_info": {
   "codemirror_mode": {
    "name": "ipython",
    "version": 3
   },
   "file_extension": ".py",
   "mimetype": "text/x-python",
   "name": "python",
   "nbconvert_exporter": "python",
   "pygments_lexer": "ipython3",
   "version": "3.6.10"
  }
 },
 "nbformat": 4,
 "nbformat_minor": 2
}
